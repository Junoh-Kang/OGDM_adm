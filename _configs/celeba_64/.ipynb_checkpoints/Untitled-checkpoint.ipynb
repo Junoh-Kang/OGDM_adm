{
 "cells": [
  {
   "cell_type": "code",
   "execution_count": 19,
   "id": "acf49888",
   "metadata": {},
   "outputs": [],
   "source": [
    "# name = \"disc_aware,'uniform','fake_acc','0.2','good',\"\n",
    "name = \"disc_aware,uniform,fake_acc,0.2,good\""
   ]
  },
  {
   "cell_type": "code",
   "execution_count": 3,
   "id": "79724271",
   "metadata": {},
   "outputs": [
    {
     "ename": "ValueError",
     "evalue": "could not convert string to float: 'disc_aware,uniform,fake_acc,0.2,good,'",
     "output_type": "error",
     "traceback": [
      "\u001b[0;31m---------------------------------------------------------------------------\u001b[0m",
      "\u001b[0;31mValueError\u001b[0m                                Traceback (most recent call last)",
      "\u001b[0;32m<ipython-input-3-8e2822995b26>\u001b[0m in \u001b[0;36m<module>\u001b[0;34m\u001b[0m\n\u001b[0;32m----> 1\u001b[0;31m \u001b[0mfloat\u001b[0m\u001b[0;34m(\u001b[0m\u001b[0mname\u001b[0m\u001b[0;34m)\u001b[0m\u001b[0;34m\u001b[0m\u001b[0;34m\u001b[0m\u001b[0m\n\u001b[0m",
      "\u001b[0;31mValueError\u001b[0m: could not convert string to float: 'disc_aware,uniform,fake_acc,0.2,good,'"
     ]
    }
   ],
   "source": [
    "float(name)"
   ]
  },
  {
   "cell_type": "code",
   "execution_count": 17,
   "id": "6fc903b2",
   "metadata": {},
   "outputs": [],
   "source": [
    "def str2str(x):\n",
    "    try:\n",
    "        return str(float(x))\n",
    "    except:\n",
    "        return \"'\" + str(x) + \"'\"\n",
    "        "
   ]
  },
  {
   "cell_type": "code",
   "execution_count": 20,
   "id": "0230247e",
   "metadata": {},
   "outputs": [
    {
     "ename": "SyntaxError",
     "evalue": "invalid syntax (<ipython-input-20-557c22518e18>, line 9)",
     "output_type": "error",
     "traceback": [
      "\u001b[0;36m  File \u001b[0;32m\"<ipython-input-20-557c22518e18>\"\u001b[0;36m, line \u001b[0;32m9\u001b[0m\n\u001b[0;31m    name2 += str2str(k) + ','\u001b[0m\n\u001b[0m    ^\u001b[0m\n\u001b[0;31mSyntaxError\u001b[0m\u001b[0;31m:\u001b[0m invalid syntax\n"
     ]
    }
   ],
   "source": [
    "name2 = \"DiscAwareScheduler(Diffusion,\"\n",
    "\n",
    "tmp = name.split(',')[1:]\n",
    "\n",
    "if name.startswith(\"disc_aware\"):\n",
    "    for k in name.split(',')[1:]:\n",
    "        try:\n",
    "            name2 += str(float(x))\n",
    "        name2 += str2str(k) + ','\n",
    "name2"
   ]
  }
 ],
 "metadata": {
  "kernelspec": {
   "display_name": "Python 3",
   "language": "python",
   "name": "python3"
  },
  "language_info": {
   "codemirror_mode": {
    "name": "ipython",
    "version": 3
   },
   "file_extension": ".py",
   "mimetype": "text/x-python",
   "name": "python",
   "nbconvert_exporter": "python",
   "pygments_lexer": "ipython3",
   "version": "3.8.8"
  }
 },
 "nbformat": 4,
 "nbformat_minor": 5
}
